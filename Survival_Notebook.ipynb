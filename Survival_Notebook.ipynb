{
 "cells": [
  {
   "cell_type": "markdown",
   "metadata": {},
   "source": [
    "# Trials on Titanic and Game of Thrones datasets"
   ]
  },
  {
   "cell_type": "markdown",
   "metadata": {},
   "source": [
    "500 auxiliary examples and 50 target examples:"
   ]
  },
  {
   "cell_type": "code",
   "execution_count": 4,
   "metadata": {},
   "outputs": [
    {
     "name": "stdout",
     "output_type": "stream",
     "text": [
      "Loaded data\n",
      "Encoded X, Y, and Z\n",
      "Initialized clusters\n",
      "Created probability distributions\n",
      "Starting accuracy on target data: 0.52\n",
      "Starting accuracy on auxiliary data: 0.532\n",
      "New iteration...\n",
      "New iteration...\n",
      "New iteration...\n",
      "New iteration...\n",
      "New iteration...\n",
      "New iteration...\n",
      "New iteration...\n",
      "New iteration...\n",
      "New iteration...\n",
      "New iteration...\n",
      "New iteration...\n",
      "New iteration...\n",
      "New iteration...\n",
      "New iteration...\n",
      "New iteration...\n",
      "New iteration...\n",
      "New iteration...\n",
      "New iteration...\n",
      "New iteration...\n",
      "New iteration...\n",
      "New iteration...\n",
      "New iteration...\n",
      "New iteration...\n",
      "New iteration...\n",
      "New iteration...\n",
      "Accuracy on target data: 0.6799999999999999\n",
      "Accuracy on auxiliary data: 0.546\n"
     ]
    }
   ],
   "source": [
    "%run selftaught_clustering.py \"survival\" 25 10 1000 500 50"
   ]
  },
  {
   "cell_type": "markdown",
   "metadata": {},
   "source": [
    "500 auxiliary examples and 50 target examples (trial #2):"
   ]
  },
  {
   "cell_type": "code",
   "execution_count": 4,
   "metadata": {},
   "outputs": [
    {
     "name": "stdout",
     "output_type": "stream",
     "text": [
      "Loaded data\n",
      "Encoded X, Y, and Z\n",
      "Initialized clusters\n",
      "Created probability distributions\n",
      "New iteration...\n",
      "New iteration...\n",
      "New iteration...\n",
      "New iteration...\n",
      "New iteration...\n",
      "New iteration...\n",
      "New iteration...\n",
      "New iteration...\n",
      "New iteration...\n",
      "New iteration...\n",
      "New iteration...\n",
      "New iteration...\n",
      "New iteration...\n",
      "New iteration...\n",
      "New iteration...\n",
      "New iteration...\n",
      "New iteration...\n",
      "New iteration...\n",
      "New iteration...\n",
      "New iteration...\n",
      "New iteration...\n",
      "New iteration...\n",
      "New iteration...\n",
      "New iteration...\n",
      "New iteration...\n",
      "Accuracy on target data: 0.6599999999999999\n",
      "Accuracy on auxiliary data: 0.668\n"
     ]
    }
   ],
   "source": [
    "%run selftaught_clustering.py \"survival\" 25 10 1000 500 50"
   ]
  },
  {
   "cell_type": "markdown",
   "metadata": {},
   "source": [
    "500 auxiliary examples and 50 target examples (trial #3):"
   ]
  },
  {
   "cell_type": "code",
   "execution_count": 6,
   "metadata": {},
   "outputs": [
    {
     "name": "stdout",
     "output_type": "stream",
     "text": [
      "Loaded data\n",
      "Encoded X, Y, and Z\n",
      "Initialized clusters\n",
      "Created probability distributions\n",
      "New iteration...\n",
      "New iteration...\n",
      "New iteration...\n",
      "New iteration...\n",
      "New iteration...\n",
      "New iteration...\n",
      "New iteration...\n",
      "New iteration...\n",
      "New iteration...\n",
      "New iteration...\n",
      "New iteration...\n",
      "New iteration...\n",
      "New iteration...\n",
      "New iteration...\n",
      "New iteration...\n",
      "New iteration...\n",
      "New iteration...\n",
      "New iteration...\n",
      "New iteration...\n",
      "New iteration...\n",
      "New iteration...\n",
      "New iteration...\n",
      "New iteration...\n",
      "New iteration...\n",
      "New iteration...\n",
      "Accuracy on target data: 0.66\n",
      "Accuracy on auxiliary data: 0.654\n"
     ]
    }
   ],
   "source": [
    "%run selftaught_clustering.py \"survival\" 25 10 1000 500 50"
   ]
  },
  {
   "cell_type": "code",
   "execution_count": null,
   "metadata": {},
   "outputs": [],
   "source": []
  }
 ],
 "metadata": {
  "kernelspec": {
   "display_name": "Python 3",
   "language": "python",
   "name": "python3"
  },
  "language_info": {
   "codemirror_mode": {
    "name": "ipython",
    "version": 3
   },
   "file_extension": ".py",
   "mimetype": "text/x-python",
   "name": "python",
   "nbconvert_exporter": "python",
   "pygments_lexer": "ipython3",
   "version": "3.7.4"
  }
 },
 "nbformat": 4,
 "nbformat_minor": 4
}
