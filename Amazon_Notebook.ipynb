{
 "cells": [
  {
   "cell_type": "markdown",
   "metadata": {},
   "source": [
    "# Trials on Amazon datasets"
   ]
  },
  {
   "cell_type": "markdown",
   "metadata": {},
   "source": [
    "1000 auxiliary examples and 100 target examples:"
   ]
  },
  {
   "cell_type": "code",
   "execution_count": 1,
   "metadata": {},
   "outputs": [
    {
     "name": "stdout",
     "output_type": "stream",
     "text": [
      "Loaded data\n",
      "Discretized data\n",
      "Encoded X, Y, and Z\n",
      "Initialized clusters\n",
      "Created probability distributions\n",
      "New iteration...\n",
      "New iteration...\n",
      "New iteration...\n",
      "New iteration...\n",
      "New iteration...\n",
      "New iteration...\n",
      "New iteration...\n",
      "New iteration...\n",
      "New iteration...\n",
      "New iteration...\n",
      "Accuracy on target data: 0.85\n",
      "Accuracy on auxiliary data: 0.854\n"
     ]
    }
   ],
   "source": [
    "%run selftaught_clustering.py \"amazon\" 10 10 1000 1000 100"
   ]
  },
  {
   "cell_type": "markdown",
   "metadata": {},
   "source": [
    "## Research extension."
   ]
  },
  {
   "cell_type": "markdown",
   "metadata": {},
   "source": [
    "100 auxiliary examples and 10 target examples:"
   ]
  },
  {
   "cell_type": "code",
   "execution_count": 2,
   "metadata": {},
   "outputs": [
    {
     "name": "stdout",
     "output_type": "stream",
     "text": [
      "Loaded data\n",
      "Discretized data\n",
      "Encoded X, Y, and Z\n",
      "Initialized clusters\n",
      "Created probability distributions\n",
      "New iteration...\n",
      "New iteration...\n",
      "New iteration...\n",
      "New iteration...\n",
      "New iteration...\n",
      "New iteration...\n",
      "New iteration...\n",
      "New iteration...\n",
      "New iteration...\n",
      "New iteration...\n",
      "Accuracy on target data: 0.9\n",
      "Accuracy on auxiliary data: 0.86\n"
     ]
    }
   ],
   "source": [
    "%run selftaught_clustering.py \"amazon\" 10 10 1000 100 10"
   ]
  },
  {
   "cell_type": "markdown",
   "metadata": {},
   "source": [
    "100 auxiliary examples and 10 target examples with PCA:"
   ]
  },
  {
   "cell_type": "code",
   "execution_count": 3,
   "metadata": {},
   "outputs": [
    {
     "name": "stdout",
     "output_type": "stream",
     "text": [
      "Loaded data\n",
      "Discretized data\n",
      "Encoded X, Y, and Z\n",
      "Initialized clusters\n",
      "Created probability distributions\n",
      "New iteration...\n",
      "New iteration...\n",
      "New iteration...\n",
      "New iteration...\n",
      "New iteration...\n",
      "New iteration...\n",
      "New iteration...\n",
      "New iteration...\n",
      "New iteration...\n",
      "New iteration...\n",
      "Accuracy on target data: 0.7\n",
      "Accuracy on auxiliary data: 0.99\n"
     ]
    }
   ],
   "source": [
    "%run selftaught_clustering.py \"amazon\" 10 10 1000 100 10 \"pca\""
   ]
  },
  {
   "cell_type": "markdown",
   "metadata": {},
   "source": [
    "100 auxiliary examples and 10 target examples with Sparse PCA:"
   ]
  },
  {
   "cell_type": "code",
   "execution_count": 4,
   "metadata": {},
   "outputs": [
    {
     "name": "stdout",
     "output_type": "stream",
     "text": [
      "Loaded data\n"
     ]
    },
    {
     "name": "stderr",
     "output_type": "stream",
     "text": [
      "C:\\Users\\sarah\\Anaconda3\\lib\\site-packages\\sklearn\\decomposition\\sparse_pca.py:170: DeprecationWarning: normalize_components=False is a backward-compatible setting that implements a non-standard definition of sparse PCA. This compatibility mode will be removed in 0.22.\n",
      "  DeprecationWarning)\n",
      "C:\\Users\\sarah\\Anaconda3\\lib\\site-packages\\sklearn\\decomposition\\sparse_pca.py:170: DeprecationWarning: normalize_components=False is a backward-compatible setting that implements a non-standard definition of sparse PCA. This compatibility mode will be removed in 0.22.\n",
      "  DeprecationWarning)\n"
     ]
    },
    {
     "name": "stdout",
     "output_type": "stream",
     "text": [
      "Discretized data\n",
      "Encoded X, Y, and Z\n",
      "Initialized clusters\n",
      "Created probability distributions\n",
      "New iteration...\n",
      "New iteration...\n",
      "New iteration...\n",
      "New iteration...\n",
      "New iteration...\n",
      "New iteration...\n",
      "New iteration...\n",
      "New iteration...\n",
      "New iteration...\n",
      "New iteration...\n",
      "Accuracy on target data: 0.9\n",
      "Accuracy on auxiliary data: 0.87\n"
     ]
    }
   ],
   "source": [
    "%run selftaught_clustering.py \"amazon\" 10 10 1000 100 10 \"sparse\""
   ]
  },
  {
   "cell_type": "markdown",
   "metadata": {},
   "source": [
    "100 auxiliary examples and 10 target examples with Truncated SVD:"
   ]
  },
  {
   "cell_type": "code",
   "execution_count": 12,
   "metadata": {},
   "outputs": [
    {
     "name": "stdout",
     "output_type": "stream",
     "text": [
      "Loaded data\n",
      "Discretized data\n",
      "Encoded X, Y, and Z\n",
      "Initialized clusters\n",
      "Created probability distributions\n",
      "New iteration...\n",
      "New iteration...\n",
      "New iteration...\n",
      "New iteration...\n",
      "New iteration...\n",
      "New iteration...\n",
      "New iteration...\n",
      "New iteration...\n",
      "New iteration...\n",
      "New iteration...\n",
      "Accuracy on target data: 0.9\n",
      "Accuracy on auxiliary data: 0.89\n"
     ]
    }
   ],
   "source": [
    "%run selftaught_clustering.py \"amazon\" 10 10 1000 100 10 \"truncated\""
   ]
  },
  {
   "cell_type": "markdown",
   "metadata": {},
   "source": [
    "100 auxiliary examples and 10 target examples with Kernel PCA:"
   ]
  },
  {
   "cell_type": "code",
   "execution_count": 6,
   "metadata": {},
   "outputs": [
    {
     "name": "stdout",
     "output_type": "stream",
     "text": [
      "Loaded data\n",
      "Discretized data\n",
      "Encoded X, Y, and Z\n",
      "Initialized clusters\n",
      "Created probability distributions\n",
      "New iteration...\n",
      "New iteration...\n",
      "New iteration...\n",
      "New iteration...\n",
      "New iteration...\n",
      "New iteration...\n",
      "New iteration...\n",
      "New iteration...\n",
      "New iteration...\n",
      "New iteration...\n",
      "Accuracy on target data: 1.0\n",
      "Accuracy on auxiliary data: 0.99\n"
     ]
    }
   ],
   "source": [
    "%run selftaught_clustering.py \"amazon\" 10 10 1000 100 10 \"kernel\""
   ]
  },
  {
   "cell_type": "markdown",
   "metadata": {},
   "source": [
    "100 auxiliary examples and 10 target examples with \"Transferred\" PCA:"
   ]
  },
  {
   "cell_type": "code",
   "execution_count": 13,
   "metadata": {},
   "outputs": [
    {
     "name": "stdout",
     "output_type": "stream",
     "text": [
      "Loaded data\n",
      "Discretized data\n",
      "Encoded X, Y, and Z\n",
      "Initialized clusters\n",
      "Created probability distributions\n",
      "New iteration...\n",
      "New iteration...\n",
      "New iteration...\n",
      "New iteration...\n",
      "New iteration...\n",
      "New iteration...\n",
      "New iteration...\n",
      "New iteration...\n",
      "New iteration...\n",
      "New iteration...\n",
      "Accuracy on target data: 0.5\n",
      "Accuracy on auxiliary data: 0.99\n"
     ]
    }
   ],
   "source": [
    "%run selftaught_clustering.py \"amazon\" 10 10 1000 100 10 \"pca_double\""
   ]
  },
  {
   "cell_type": "markdown",
   "metadata": {},
   "source": [
    "100 auxiliary examples and 10 target examples with \"Transferred\" Sparse PCA:"
   ]
  },
  {
   "cell_type": "code",
   "execution_count": 8,
   "metadata": {},
   "outputs": [
    {
     "name": "stdout",
     "output_type": "stream",
     "text": [
      "Loaded data\n"
     ]
    },
    {
     "name": "stderr",
     "output_type": "stream",
     "text": [
      "C:\\Users\\sarah\\Anaconda3\\lib\\site-packages\\sklearn\\decomposition\\sparse_pca.py:170: DeprecationWarning: normalize_components=False is a backward-compatible setting that implements a non-standard definition of sparse PCA. This compatibility mode will be removed in 0.22.\n",
      "  DeprecationWarning)\n"
     ]
    },
    {
     "name": "stdout",
     "output_type": "stream",
     "text": [
      "Discretized data\n",
      "Encoded X, Y, and Z\n",
      "Initialized clusters\n",
      "Created probability distributions\n",
      "New iteration...\n",
      "New iteration...\n",
      "New iteration...\n",
      "New iteration...\n",
      "New iteration...\n",
      "New iteration...\n",
      "New iteration...\n",
      "New iteration...\n",
      "New iteration...\n",
      "New iteration...\n",
      "Accuracy on target data: 0.8\n",
      "Accuracy on auxiliary data: 0.99\n"
     ]
    }
   ],
   "source": [
    "%run selftaught_clustering.py \"amazon\" 10 10 1000 100 10 \"sparse_double\""
   ]
  },
  {
   "cell_type": "markdown",
   "metadata": {},
   "source": [
    "100 auxiliary examples and 10 target examples with \"Transferred\" Truncated SVD:"
   ]
  },
  {
   "cell_type": "code",
   "execution_count": 14,
   "metadata": {},
   "outputs": [
    {
     "name": "stdout",
     "output_type": "stream",
     "text": [
      "Loaded data\n",
      "Discretized data\n",
      "Encoded X, Y, and Z\n",
      "Initialized clusters\n",
      "Created probability distributions\n",
      "New iteration...\n",
      "New iteration...\n",
      "New iteration...\n",
      "New iteration...\n",
      "New iteration...\n",
      "New iteration...\n",
      "New iteration...\n",
      "New iteration...\n",
      "New iteration...\n",
      "New iteration...\n",
      "Accuracy on target data: 0.9\n",
      "Accuracy on auxiliary data: 0.89\n"
     ]
    }
   ],
   "source": [
    "%run selftaught_clustering.py \"amazon\" 10 10 1000 100 10 \"truncated_double\""
   ]
  },
  {
   "cell_type": "markdown",
   "metadata": {},
   "source": [
    "100 auxiliary examples and 10 target examples with \"Transferred\" Kernel PCA:"
   ]
  },
  {
   "cell_type": "code",
   "execution_count": 10,
   "metadata": {},
   "outputs": [
    {
     "name": "stdout",
     "output_type": "stream",
     "text": [
      "Loaded data\n",
      "Discretized data\n",
      "Encoded X, Y, and Z\n",
      "Initialized clusters\n",
      "Created probability distributions\n",
      "New iteration...\n",
      "New iteration...\n",
      "New iteration...\n",
      "New iteration...\n",
      "New iteration...\n",
      "New iteration...\n",
      "New iteration...\n",
      "New iteration...\n",
      "New iteration...\n",
      "New iteration...\n",
      "Accuracy on target data: 0.9\n",
      "Accuracy on auxiliary data: 0.91\n"
     ]
    }
   ],
   "source": [
    "%run selftaught_clustering.py \"amazon\" 10 10 1000 100 10 \"kernel_double\""
   ]
  },
  {
   "cell_type": "markdown",
   "metadata": {},
   "source": [
    "100 auxiliary examples and 10 target examples with LPP:"
   ]
  },
  {
   "cell_type": "code",
   "execution_count": 11,
   "metadata": {},
   "outputs": [
    {
     "name": "stdout",
     "output_type": "stream",
     "text": [
      "Loaded data\n",
      "Discretized data\n",
      "Encoded X, Y, and Z\n",
      "Initialized clusters\n",
      "Created probability distributions\n",
      "New iteration...\n",
      "New iteration...\n",
      "New iteration...\n",
      "New iteration...\n",
      "New iteration...\n",
      "New iteration...\n",
      "New iteration...\n",
      "New iteration...\n",
      "New iteration...\n",
      "New iteration...\n",
      "Accuracy on target data: 0.9\n",
      "Accuracy on auxiliary data: 0.91\n"
     ]
    }
   ],
   "source": [
    "%run selftaught_clustering.py \"amazon\" 10 10 1000 100 10 \"LPP\""
   ]
  },
  {
   "cell_type": "markdown",
   "metadata": {},
   "source": [
    "100 auxiliary examples and 10 target examples with \"Transferred\" LPP:"
   ]
  },
  {
   "cell_type": "code",
   "execution_count": 1,
   "metadata": {},
   "outputs": [
    {
     "name": "stdout",
     "output_type": "stream",
     "text": [
      "Loaded data\n",
      "Discretized data\n",
      "Encoded X, Y, and Z\n",
      "Initialized clusters\n",
      "Created probability distributions\n",
      "New iteration...\n",
      "New iteration...\n",
      "New iteration...\n",
      "New iteration...\n",
      "New iteration...\n",
      "New iteration...\n",
      "New iteration...\n",
      "New iteration...\n",
      "New iteration...\n",
      "New iteration...\n",
      "Accuracy on target data: 0.9\n",
      "Accuracy on auxiliary data: 0.99\n"
     ]
    }
   ],
   "source": [
    "%run selftaught_clustering.py \"amazon\" 10 10 1000 100 10 \"LPP_double\""
   ]
  },
  {
   "cell_type": "code",
   "execution_count": null,
   "metadata": {},
   "outputs": [],
   "source": []
  }
 ],
 "metadata": {
  "kernelspec": {
   "display_name": "Python 3",
   "language": "python",
   "name": "python3"
  },
  "language_info": {
   "codemirror_mode": {
    "name": "ipython",
    "version": 3
   },
   "file_extension": ".py",
   "mimetype": "text/x-python",
   "name": "python",
   "nbconvert_exporter": "python",
   "pygments_lexer": "ipython3",
   "version": "3.7.4"
  }
 },
 "nbformat": 4,
 "nbformat_minor": 4
}
